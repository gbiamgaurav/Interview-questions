{
 "cells": [
  {
   "cell_type": "code",
   "execution_count": 5,
   "metadata": {},
   "outputs": [],
   "source": [
    "# Add 2 numbers\n",
    "\n",
    "def add_two_numbers():\n",
    "    num1 = int(input(\"Enter a number: \"))\n",
    "    num2 = int(input(\"Enter a number: \"))\n",
    "    result = num1 + num2\n",
    "    print(f\"The sum is: {result}\")"
   ]
  },
  {
   "cell_type": "code",
   "execution_count": 6,
   "metadata": {},
   "outputs": [
    {
     "name": "stdout",
     "output_type": "stream",
     "text": [
      "The sum is: 16\n"
     ]
    }
   ],
   "source": [
    "add_two_numbers()"
   ]
  },
  {
   "cell_type": "code",
   "execution_count": 9,
   "metadata": {},
   "outputs": [
    {
     "name": "stdout",
     "output_type": "stream",
     "text": [
      "The square root of the given num is:  7\n"
     ]
    }
   ],
   "source": [
    "# Find square root of a number\n",
    "\n",
    "#num = 64\n",
    "num1 = int(input(\"enter a number here: \"))\n",
    "sq_root = int(num1 ** 0.5)\n",
    "print(\"The square root of the given num is: \", sq_root)"
   ]
  },
  {
   "cell_type": "code",
   "execution_count": null,
   "metadata": {},
   "outputs": [
    {
     "name": "stdout",
     "output_type": "stream",
     "text": [
      "The square root of the 49 is: 7\n"
     ]
    }
   ],
   "source": [
    "import math \n",
    "num = int(input(\"enter a number here: \"))\n",
    "sr = int(math.sqrt(num))\n",
    "print(f\"The square root of {num} is:\", sr)"
   ]
  },
  {
   "cell_type": "code",
   "execution_count": 16,
   "metadata": {},
   "outputs": [],
   "source": [
    "# Area of Triangle\n",
    "\n",
    "def area_of_triangle():\n",
    "    base = int(input(\"enter the base: \"))\n",
    "    height = int(input(\"enter the height: \"))\n",
    "    area = int((0.5) * base * height)\n",
    "    print(f\"The area of the triangle is: {area}\")"
   ]
  },
  {
   "cell_type": "code",
   "execution_count": 18,
   "metadata": {},
   "outputs": [
    {
     "name": "stdout",
     "output_type": "stream",
     "text": [
      "The area of the triangle is: 300\n"
     ]
    }
   ],
   "source": [
    "area_of_triangle()"
   ]
  },
  {
   "cell_type": "code",
   "execution_count": 21,
   "metadata": {},
   "outputs": [],
   "source": [
    "# Swap 2 variables\n",
    "\n",
    "def swap_two_variables():\n",
    "    a = input(\"Enter a variable: \")\n",
    "    b = input(\"enter a variable: \")\n",
    "    return b, a"
   ]
  },
  {
   "cell_type": "code",
   "execution_count": 22,
   "metadata": {},
   "outputs": [
    {
     "data": {
      "text/plain": [
       "('Bhattacharya', 'Gaurav')"
      ]
     },
     "execution_count": 22,
     "metadata": {},
     "output_type": "execute_result"
    }
   ],
   "source": [
    "swap_two_variables()"
   ]
  },
  {
   "cell_type": "code",
   "execution_count": 25,
   "metadata": {},
   "outputs": [],
   "source": [
    "# Convert kilometers to miles\n",
    "\n",
    "def kilo_to_miles():\n",
    "    kms = int(input(\"Enter the kilometers here: \"))\n",
    "    miles = float(kms * 0.6213)\n",
    "\n",
    "    print(f\"The {kms} kms is actually {miles} miles\")"
   ]
  },
  {
   "cell_type": "code",
   "execution_count": 26,
   "metadata": {},
   "outputs": [
    {
     "name": "stdout",
     "output_type": "stream",
     "text": [
      "The 12 kms is actually 7.4556 miles\n"
     ]
    }
   ],
   "source": [
    "kilo_to_miles()"
   ]
  },
  {
   "cell_type": "code",
   "execution_count": 27,
   "metadata": {},
   "outputs": [],
   "source": [
    "# Number positive and negative or zero\n",
    "\n",
    "def check_numbers():\n",
    "    num = int(input(\"Enter a number here: \"))\n",
    "    if num > 0:\n",
    "        return \"Positive Number\"\n",
    "    elif num == 0:\n",
    "        return \"Zero\"\n",
    "    else:\n",
    "        return \"Negative Number\""
   ]
  },
  {
   "cell_type": "code",
   "execution_count": 28,
   "metadata": {},
   "outputs": [
    {
     "data": {
      "text/plain": [
       "'Negative Number'"
      ]
     },
     "execution_count": 28,
     "metadata": {},
     "output_type": "execute_result"
    }
   ],
   "source": [
    "check_numbers()"
   ]
  },
  {
   "cell_type": "code",
   "execution_count": 29,
   "metadata": {},
   "outputs": [
    {
     "name": "stdout",
     "output_type": "stream",
     "text": [
      "56 is the largest number\n"
     ]
    }
   ],
   "source": [
    "# Largest among three numbers\n",
    "\n",
    "num1 = 12\n",
    "num2 = 56\n",
    "num3 = 34\n",
    "\n",
    "if num1 > num2 and num1 > num3:\n",
    "    print(f\"{num1} is the largest number\")\n",
    "elif num2 > num1 and num2 > num3:\n",
    "    print(f\"{num2} is the largest number\")\n",
    "else:\n",
    "    print(f\"{num3} is the largest number\")\n",
    "    "
   ]
  },
  {
   "cell_type": "code",
   "execution_count": 34,
   "metadata": {},
   "outputs": [],
   "source": [
    "def check_largest_number():\n",
    "    num1 = int(input(\"enter number 1 here: \"))\n",
    "    num2 = int(input(\"enter number 2 here: \"))\n",
    "    num3 = int(input(\"enter number 3 here: \"))\n",
    "\n",
    "    if num1 > num2 and num1 > num3:\n",
    "        print(f\"{num1} is the largest number\")\n",
    "    elif num2 > num1 and num2 > num3:\n",
    "        print(f\"{num2} is the largest number\")\n",
    "    else:\n",
    "        print(f\"{num3} is the largest number\")"
   ]
  },
  {
   "cell_type": "code",
   "execution_count": 35,
   "metadata": {},
   "outputs": [
    {
     "name": "stdout",
     "output_type": "stream",
     "text": [
      "98 is the largest number\n"
     ]
    }
   ],
   "source": [
    "check_largest_number()"
   ]
  },
  {
   "cell_type": "code",
   "execution_count": 36,
   "metadata": {},
   "outputs": [],
   "source": [
    "# Number Odd or Even\n",
    "\n",
    "def check_even_or_odd():\n",
    "    num = int(input(\"Enter a number here: \"))\n",
    "    if num % 2 == 0:\n",
    "        print(f\"{num} is a even number\")\n",
    "    else:\n",
    "        print(f\"{num} is an odd number\")"
   ]
  },
  {
   "cell_type": "code",
   "execution_count": 37,
   "metadata": {},
   "outputs": [
    {
     "name": "stdout",
     "output_type": "stream",
     "text": [
      "24 is a even number\n"
     ]
    }
   ],
   "source": [
    "check_even_or_odd()"
   ]
  },
  {
   "cell_type": "code",
   "execution_count": 38,
   "metadata": {},
   "outputs": [],
   "source": [
    "# Checking leap year\n",
    "\n",
    "def check_leap_year():\n",
    "    year = int(input(\"Enter the year: \"))\n",
    "\n",
    "    if (year % 400 == 0) and (year % 100 == 0):\n",
    "        print(f\"{year} is a Leap Year\")\n",
    "    elif (year % 4 == 0) and (year % 100 != 0):\n",
    "        print(f\"{year} is a Leap Year\")\n",
    "    else:\n",
    "        print(f\"{year} is not a Leap Year\")"
   ]
  },
  {
   "cell_type": "code",
   "execution_count": 39,
   "metadata": {},
   "outputs": [
    {
     "name": "stdout",
     "output_type": "stream",
     "text": [
      "2024 is a Leap Year\n"
     ]
    }
   ],
   "source": [
    "check_leap_year()"
   ]
  },
  {
   "cell_type": "code",
   "execution_count": 40,
   "metadata": {},
   "outputs": [
    {
     "name": "stdout",
     "output_type": "stream",
     "text": [
      "2022 is not a Leap Year\n"
     ]
    }
   ],
   "source": [
    "check_leap_year()"
   ]
  },
  {
   "cell_type": "code",
   "execution_count": 42,
   "metadata": {},
   "outputs": [],
   "source": [
    "# Check Prime Number \n",
    "\n",
    "def check_prime_number():\n",
    "    num = int(input(\"Enter a number here: \"))\n",
    "    if num == 1:\n",
    "        print(\"Its not a prime number\")\n",
    "    if num > 1:\n",
    "        for i in range(2, num):\n",
    "            if num % i == 0:\n",
    "                print(\"Its not a prime number\")\n",
    "                break\n",
    "        else:\n",
    "            print(\"Its a prime number\")\n"
   ]
  },
  {
   "cell_type": "code",
   "execution_count": 43,
   "metadata": {},
   "outputs": [
    {
     "name": "stdout",
     "output_type": "stream",
     "text": [
      "Its not a prime number\n"
     ]
    }
   ],
   "source": [
    "check_prime_number()"
   ]
  },
  {
   "cell_type": "code",
   "execution_count": 44,
   "metadata": {},
   "outputs": [
    {
     "name": "stdout",
     "output_type": "stream",
     "text": [
      "Its a prime number\n"
     ]
    }
   ],
   "source": [
    "check_prime_number()"
   ]
  },
  {
   "cell_type": "code",
   "execution_count": 47,
   "metadata": {},
   "outputs": [],
   "source": [
    "# Generate a random number\n",
    "\n",
    "import random \n",
    "\n",
    "def random_num():\n",
    "    return random.randint(1, 100)"
   ]
  },
  {
   "cell_type": "code",
   "execution_count": 48,
   "metadata": {},
   "outputs": [
    {
     "data": {
      "text/plain": [
       "31"
      ]
     },
     "execution_count": 48,
     "metadata": {},
     "output_type": "execute_result"
    }
   ],
   "source": [
    "random_num()"
   ]
  },
  {
   "cell_type": "code",
   "execution_count": 49,
   "metadata": {},
   "outputs": [],
   "source": [
    "# Prime numbers in an interval\n",
    "\n",
    "def prime_numbers_in_interval():\n",
    "    lower = int(input(\"enter lower limit here: \"))\n",
    "    upper = int(input(\"enter upper limit here: \"))\n",
    "\n",
    "    for num in range(lower, upper+1):\n",
    "        if num > 1:\n",
    "            for i in range(2, num):\n",
    "                if num % i == 0:\n",
    "                    break\n",
    "            else:\n",
    "                print(num)\n"
   ]
  },
  {
   "cell_type": "code",
   "execution_count": 50,
   "metadata": {},
   "outputs": [
    {
     "name": "stdout",
     "output_type": "stream",
     "text": [
      "2\n",
      "3\n",
      "5\n",
      "7\n",
      "11\n"
     ]
    }
   ],
   "source": [
    "prime_numbers_in_interval()"
   ]
  },
  {
   "cell_type": "code",
   "execution_count": 51,
   "metadata": {},
   "outputs": [
    {
     "name": "stdout",
     "output_type": "stream",
     "text": [
      "2\n",
      "3\n",
      "5\n",
      "7\n",
      "11\n",
      "13\n",
      "17\n",
      "19\n",
      "23\n",
      "29\n",
      "31\n",
      "37\n",
      "41\n",
      "43\n",
      "47\n"
     ]
    }
   ],
   "source": [
    "prime_numbers_in_interval()"
   ]
  },
  {
   "cell_type": "code",
   "execution_count": 52,
   "metadata": {},
   "outputs": [],
   "source": [
    "# Celcius to Fahrenheit\n",
    "\n",
    "def convert_temp():\n",
    "    celcius = float(input(\"Enter the temp in degrees here: \"))\n",
    "    farenheit = (celcius * 1.8) + 32\n",
    "    print(f\"{celcius} degree celcius is actually {farenheit} farenheit\")"
   ]
  },
  {
   "cell_type": "code",
   "execution_count": 53,
   "metadata": {},
   "outputs": [
    {
     "name": "stdout",
     "output_type": "stream",
     "text": [
      "23.6 degree celcius is actually 74.48 farenheit\n"
     ]
    }
   ],
   "source": [
    "convert_temp()"
   ]
  },
  {
   "cell_type": "code",
   "execution_count": 54,
   "metadata": {},
   "outputs": [],
   "source": [
    "# Factorial of a number\n",
    "\n",
    "def factorial(n):\n",
    "    if n == 0:\n",
    "        return 1\n",
    "    else: \n",
    "        return n * factorial(n-1)"
   ]
  },
  {
   "cell_type": "code",
   "execution_count": 55,
   "metadata": {},
   "outputs": [
    {
     "data": {
      "text/plain": [
       "120"
      ]
     },
     "execution_count": 55,
     "metadata": {},
     "output_type": "execute_result"
    }
   ],
   "source": [
    "factorial(5)"
   ]
  },
  {
   "cell_type": "code",
   "execution_count": 56,
   "metadata": {},
   "outputs": [
    {
     "data": {
      "text/plain": [
       "24"
      ]
     },
     "execution_count": 56,
     "metadata": {},
     "output_type": "execute_result"
    }
   ],
   "source": [
    "factorial(4)"
   ]
  },
  {
   "cell_type": "code",
   "execution_count": 59,
   "metadata": {},
   "outputs": [],
   "source": [
    "# Fibonacci Sequences\n",
    "\n",
    "def fibonacci():\n",
    "    a = 0\n",
    "    b = 1\n",
    "    num = int(input(\"Enter a number here to obtain the fibonacci series: \"))\n",
    "    if num == 1:\n",
    "        print(a)\n",
    "    else:\n",
    "        print(a)\n",
    "        print(b)\n",
    "        for i in range(1, num+1):\n",
    "            c = a + b\n",
    "            a = b\n",
    "            b = c \n",
    "            print(c)"
   ]
  },
  {
   "cell_type": "code",
   "execution_count": 60,
   "metadata": {},
   "outputs": [
    {
     "name": "stdout",
     "output_type": "stream",
     "text": [
      "0\n",
      "1\n",
      "1\n",
      "2\n",
      "3\n",
      "5\n",
      "8\n",
      "13\n",
      "21\n",
      "34\n",
      "55\n",
      "89\n",
      "144\n",
      "233\n",
      "377\n",
      "610\n",
      "987\n"
     ]
    }
   ],
   "source": [
    "fibonacci()"
   ]
  },
  {
   "cell_type": "code",
   "execution_count": 61,
   "metadata": {},
   "outputs": [
    {
     "name": "stdout",
     "output_type": "stream",
     "text": [
      "10 x 1 = 10\n",
      "10 x 2 = 20\n",
      "10 x 3 = 30\n",
      "10 x 4 = 40\n",
      "10 x 5 = 50\n",
      "10 x 6 = 60\n",
      "10 x 7 = 70\n",
      "10 x 8 = 80\n",
      "10 x 9 = 90\n",
      "10 x 10 = 100\n"
     ]
    }
   ],
   "source": [
    "# Multiplication Table \n",
    "\n",
    "n = int(input(\"enter a number here: \"))\n",
    "\n",
    "for i in range(1, 11):\n",
    "    print(n, \"x\", i, \"=\", n*i)"
   ]
  },
  {
   "cell_type": "code",
   "execution_count": 66,
   "metadata": {},
   "outputs": [],
   "source": [
    "# Check for a Armstrong Number\n",
    "\n",
    "def check_armstrong_number():\n",
    "    num = int(input(\"Enter a number here: \"))\n",
    "    order = len(str(num))\n",
    "    sum = 0 \n",
    "    temp = num\n",
    "\n",
    "    while temp > 0:\n",
    "         digit = temp % 10\n",
    "         sum += digit ** order\n",
    "         temp //= 10\n",
    "\n",
    "    if sum == num:\n",
    "         print(f\"{num} is an armstrong number\")\n",
    "    else:\n",
    "         print(f\"{num} is not an armstrong number\")"
   ]
  },
  {
   "cell_type": "code",
   "execution_count": 67,
   "metadata": {},
   "outputs": [
    {
     "name": "stdout",
     "output_type": "stream",
     "text": [
      "153 is an armstrong number\n"
     ]
    }
   ],
   "source": [
    "check_armstrong_number()"
   ]
  },
  {
   "cell_type": "code",
   "execution_count": 64,
   "metadata": {},
   "outputs": [
    {
     "name": "stdout",
     "output_type": "stream",
     "text": [
      "56 is not an armstrong number\n"
     ]
    }
   ],
   "source": [
    "check_armstrong_number()"
   ]
  },
  {
   "cell_type": "code",
   "execution_count": 65,
   "metadata": {},
   "outputs": [
    {
     "name": "stdout",
     "output_type": "stream",
     "text": [
      "407 is an armstrong number\n"
     ]
    }
   ],
   "source": [
    "check_armstrong_number()"
   ]
  },
  {
   "cell_type": "code",
   "execution_count": 68,
   "metadata": {},
   "outputs": [
    {
     "name": "stdout",
     "output_type": "stream",
     "text": [
      "1634 is an armstrong number\n"
     ]
    }
   ],
   "source": [
    "check_armstrong_number()"
   ]
  },
  {
   "cell_type": "code",
   "execution_count": null,
   "metadata": {},
   "outputs": [],
   "source": [
    "# Armstrong number in an interval\n",
    "\n"
   ]
  }
 ],
 "metadata": {
  "kernelspec": {
   "display_name": "interview",
   "language": "python",
   "name": "python3"
  },
  "language_info": {
   "codemirror_mode": {
    "name": "ipython",
    "version": 3
   },
   "file_extension": ".py",
   "mimetype": "text/x-python",
   "name": "python",
   "nbconvert_exporter": "python",
   "pygments_lexer": "ipython3",
   "version": "3.11.0"
  }
 },
 "nbformat": 4,
 "nbformat_minor": 2
}
